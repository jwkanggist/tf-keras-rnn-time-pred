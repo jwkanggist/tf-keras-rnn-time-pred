{
 "cells": [
  {
   "cell_type": "markdown",
   "metadata": {},
   "source": [
    "# Recurrent Neural Networks\n",
    "\n",
    "- Sequence data\n",
    "- Natural Language\n",
    "- Speech ...\n",
    "\n",
    "### RNN model\n",
    "![](http://colah.github.io/posts/2015-08-Understanding-LSTMs/img/RNN-unrolled.png)\n",
    "\n",
    "### RNN example\n",
    "![](http://karpathy.github.io/assets/rnn/diags.jpeg)\n",
    "\n",
    "### LSTM (Long Short-Term Memory models)\n",
    "![](https://i.ytimg.com/vi/kMLl-TKaEnc/maxresdefault.jpg)\n",
    "\n"
   ]
  },
  {
   "cell_type": "markdown",
   "metadata": {},
   "source": [
    "## 그래서? \n",
    "\n",
    "1. 주가예측\n",
    "  - tensorflow를 이용한 주가예측\n",
    "  - keras를 이용한 주가예측\n",
    "2. 감성분석"
   ]
  },
  {
   "cell_type": "code",
   "execution_count": 1,
   "metadata": {},
   "outputs": [
    {
     "name": "stderr",
     "output_type": "stream",
     "text": [
      "/Users/chjeong/.pyenv/versions/3.6.3/lib/python3.6/importlib/_bootstrap.py:219: RuntimeWarning: compiletime version 3.5 of module 'tensorflow.python.framework.fast_tensor_util' does not match runtime version 3.6\n",
      "  return f(*args, **kwds)\n"
     ]
    }
   ],
   "source": [
    "import numpy as np\n",
    "import pandas as pd\n",
    "import tensorflow as tf\n",
    "from sklearn.preprocessing import MinMaxScaler\n",
    "import matplotlib.pyplot as plt\n",
    "import urllib\n",
    "import os"
   ]
  },
  {
   "cell_type": "code",
   "execution_count": 2,
   "metadata": {},
   "outputs": [
    {
     "name": "stdout",
     "output_type": "stream",
     "text": [
      "mkdir: data: File exists\r\n"
     ]
    }
   ],
   "source": [
    "# S&P 500\n",
    "FILE_NAME    = 'all_stocks_5yr.csv'\n",
    "SOURCE_URL   = 'https://github.com/CNuge/kaggle-code/raw/master/stock_data/' \n",
    "\n",
    "# YAHOO\n",
    "# FILE_NAME    = 'prices.csv'\n",
    "#SOURCE_URL = 'https://www.kaggle.com/dgawlik/nyse/downloads/prices.csv/' \n",
    "\n",
    "# GOOGLE\n",
    "# FILE_NAME    = 'trainset.csv'\n",
    "# SOURCE_URL = 'https://www.kaggle.com/ptheru/googledta/downloads/trainset.csv/' \n",
    "\n",
    "!mkdir 'data'\n",
    "filepath = './data/'+ FILE_NAME"
   ]
  },
  {
   "cell_type": "code",
   "execution_count": 3,
   "metadata": {},
   "outputs": [],
   "source": [
    "# urllib.request.urlretrieve(SOURCE_URL+'/?accessType=download', filepath)"
   ]
  },
  {
   "cell_type": "code",
   "execution_count": 4,
   "metadata": {},
   "outputs": [],
   "source": [
    "data = pd.read_csv('./data/'+FILE_NAME)\n",
    "cl = data[data['Name']=='MMM']\n",
    "# cl = data"
   ]
  },
  {
   "cell_type": "code",
   "execution_count": 5,
   "metadata": {},
   "outputs": [],
   "source": [
    "cl = cl[['close']].values"
   ]
  },
  {
   "cell_type": "code",
   "execution_count": 6,
   "metadata": {},
   "outputs": [],
   "source": [
    "def set_data(cl):\n",
    "    scl = MinMaxScaler()\n",
    "    #Scale the data\n",
    "    # pandas.__version__ < 0.23\n",
    "    # cl = cl.reshape(cl.shape[0],1)\n",
    "\n",
    "    # pandas.__version__ => 0.23\n",
    "    # cl = cl.as_matrix()\n",
    "    # cl = cl.reshape(cl.shape[0],1)\n",
    "\n",
    "    cl = scl.fit_transform(cl)\n",
    "    return cl"
   ]
  },
  {
   "cell_type": "code",
   "execution_count": 7,
   "metadata": {},
   "outputs": [],
   "source": [
    "cl = set_data(cl)"
   ]
  },
  {
   "cell_type": "code",
   "execution_count": 8,
   "metadata": {},
   "outputs": [],
   "source": [
    "def processData(data,lb):\n",
    "    X,Y = [],[]\n",
    "    for i in range(len(data)-lb-1):\n",
    "        X.append(data[i:(i+lb)])\n",
    "        Y.append(data[(i+lb),0])\n",
    "    return np.array(X),np.array(Y)"
   ]
  },
  {
   "cell_type": "code",
   "execution_count": 9,
   "metadata": {},
   "outputs": [],
   "source": [
    "X, y = processData(cl,50)\n",
    "y = y.reshape(y.shape[0], 1)"
   ]
  },
  {
   "cell_type": "code",
   "execution_count": 10,
   "metadata": {},
   "outputs": [
    {
     "name": "stdout",
     "output_type": "stream",
     "text": [
      "966\n",
      "242\n",
      "966\n",
      "242\n"
     ]
    }
   ],
   "source": [
    "X_train,X_test = X[:int(X.shape[0]*0.80)],X[int(X.shape[0]*0.80):]\n",
    "y_train,y_test = y[:int(y.shape[0]*0.80)],y[int(y.shape[0]*0.80):]\n",
    "print(X_train.shape[0])\n",
    "print(X_test.shape[0])\n",
    "print(y_train.shape[0])\n",
    "print(y_test.shape[0])\n"
   ]
  },
  {
   "cell_type": "code",
   "execution_count": 11,
   "metadata": {},
   "outputs": [],
   "source": [
    "# train Parameters\n",
    "seq_length = 50\n",
    "data_dim = 1\n",
    "hidden_dim = 10\n",
    "output_dim = 1\n",
    "learning_rate = 0.01\n",
    "iterations = 500"
   ]
  },
  {
   "cell_type": "code",
   "execution_count": 12,
   "metadata": {},
   "outputs": [
    {
     "data": {
      "text/plain": [
       "(242, 50, 1)"
      ]
     },
     "execution_count": 12,
     "metadata": {},
     "output_type": "execute_result"
    }
   ],
   "source": [
    "X_test.shape"
   ]
  },
  {
   "cell_type": "code",
   "execution_count": 13,
   "metadata": {},
   "outputs": [
    {
     "data": {
      "text/plain": [
       "(242, 1)"
      ]
     },
     "execution_count": 13,
     "metadata": {},
     "output_type": "execute_result"
    }
   ],
   "source": [
    "y_test.shape"
   ]
  },
  {
   "cell_type": "code",
   "execution_count": 14,
   "metadata": {
    "scrolled": true
   },
   "outputs": [],
   "source": [
    "# input place holders\n",
    "X = tf.placeholder(tf.float32, [None, seq_length, data_dim])\n",
    "Y = tf.placeholder(tf.float32, [None, 1])\n",
    "\n",
    "# build a LSTM network\n",
    "#cell = tf.contrib.rnn.BasicLSTMCell(\n",
    "cell = tf.contrib.rnn.BasicRNNCell(\n",
    "    num_units=hidden_dim, activation=tf.tanh)\n",
    "outputs, _states = tf.nn.dynamic_rnn(cell, X, dtype=tf.float32)\n",
    "Y_pred = tf.contrib.layers.fully_connected(\n",
    "    outputs[:, -1], output_dim, activation_fn=None)  # We use the last cell's output\n",
    "\n",
    "# cost/loss\n",
    "loss = tf.reduce_sum(tf.square(Y_pred - Y))  # sum of the squares\n",
    "# optimizer\n",
    "optimizer = tf.train.AdamOptimizer(learning_rate)\n",
    "train = optimizer.minimize(loss)\n",
    "\n",
    "# RMSE\n",
    "targets = tf.placeholder(tf.float32, [None, 1])\n",
    "predictions = tf.placeholder(tf.float32, [None, 1])\n",
    "rmse = tf.sqrt(tf.reduce_mean(tf.square(targets - predictions)))\n"
   ]
  },
  {
   "cell_type": "code",
   "execution_count": 15,
   "metadata": {},
   "outputs": [
    {
     "name": "stdout",
     "output_type": "stream",
     "text": [
      "[step: 0] loss: 2753.6376953125\n",
      "[step: 10] loss: 63.54804611206055\n",
      "[step: 20] loss: 21.260848999023438\n",
      "[step: 30] loss: 7.668742656707764\n",
      "[step: 40] loss: 2.411363124847412\n",
      "[step: 50] loss: 2.694687843322754\n",
      "[step: 60] loss: 2.4114139080047607\n",
      "[step: 70] loss: 1.995355248451233\n",
      "[step: 80] loss: 1.7313494682312012\n",
      "[step: 90] loss: 1.5734575986862183\n",
      "[step: 100] loss: 1.4957363605499268\n",
      "[step: 110] loss: 1.4585213661193848\n",
      "[step: 120] loss: 1.4285767078399658\n",
      "[step: 130] loss: 1.397826910018921\n",
      "[step: 140] loss: 1.367119312286377\n",
      "[step: 150] loss: 1.3371995687484741\n",
      "[step: 160] loss: 1.307913064956665\n",
      "[step: 170] loss: 1.279102087020874\n",
      "[step: 180] loss: 1.2507679462432861\n",
      "[step: 190] loss: 1.2229491472244263\n",
      "[step: 200] loss: 1.1956684589385986\n",
      "[step: 210] loss: 1.168938398361206\n",
      "[step: 220] loss: 1.1427675485610962\n",
      "[step: 230] loss: 1.1171618700027466\n",
      "[step: 240] loss: 1.0921235084533691\n",
      "[step: 250] loss: 1.0676523447036743\n",
      "[step: 260] loss: 1.0437449216842651\n",
      "[step: 270] loss: 1.0203983783721924\n",
      "[step: 280] loss: 0.9976069331169128\n",
      "[step: 290] loss: 0.9753625392913818\n",
      "[step: 300] loss: 0.9536595344543457\n",
      "[step: 310] loss: 0.9324885606765747\n",
      "[step: 320] loss: 0.9118422269821167\n",
      "[step: 330] loss: 0.8917096853256226\n",
      "[step: 340] loss: 0.8720822334289551\n",
      "[step: 350] loss: 0.8529503345489502\n",
      "[step: 360] loss: 0.8343038558959961\n",
      "[step: 370] loss: 0.8161332607269287\n",
      "[step: 380] loss: 0.7984265685081482\n",
      "[step: 390] loss: 0.7811751961708069\n",
      "[step: 400] loss: 0.764367938041687\n",
      "[step: 410] loss: 0.7479943037033081\n",
      "[step: 420] loss: 0.7320438027381897\n",
      "[step: 430] loss: 0.7165058255195618\n",
      "[step: 440] loss: 0.7013701796531677\n",
      "[step: 450] loss: 0.6866260766983032\n",
      "[step: 460] loss: 0.6722627878189087\n",
      "[step: 470] loss: 0.6582702398300171\n",
      "[step: 480] loss: 0.6446375250816345\n",
      "[step: 490] loss: 0.6313548684120178\n",
      "RMSE: 0.12168177217245102\n",
      "dur : 8.91663908958435\n"
     ]
    }
   ],
   "source": [
    "import time\n",
    "start = time.time()\n",
    "with tf.Session() as sess:\n",
    "    init = tf.global_variables_initializer()\n",
    "    sess.run(init)\n",
    "\n",
    "    # Training step\n",
    "    for i in range(iterations):\n",
    "        _, step_loss = sess.run([train, loss], feed_dict={\n",
    "                                X: X_train, Y: y_train})\n",
    "        if i%10 == 0:\n",
    "            print(\"[step: {}] loss: {}\".format(i, step_loss))\n",
    "\n",
    "    # Test step\n",
    "    test_predict = sess.run(Y_pred, feed_dict={X: X_test})\n",
    "    rmse_val = sess.run(rmse, feed_dict={\n",
    "                    targets: y_test, predictions: test_predict})\n",
    "    print(\"RMSE: {}\".format(rmse_val))\n",
    "end = time.time()\n",
    "print(\"dur : {}\".format(end-start))\n",
    "    "
   ]
  },
  {
   "cell_type": "code",
   "execution_count": 16,
   "metadata": {},
   "outputs": [
    {
     "data": {
      "image/png": "[encoded data removed]",
      "text/plain": [
       "<Figure size 432x288 with 1 Axes>"
      ]
     },
     "metadata": {
      "needs_background": "light"
     },
     "output_type": "display_data"
    }
   ],
   "source": [
    "# Plot predictions\n",
    "plt.plot(y_test, color='red')\n",
    "plt.plot(test_predict, color='blue')\n",
    "plt.xlabel(\"Time Period\")\n",
    "plt.ylabel(\"Stock Price\")\n",
    "plt.show()"
   ]
  },
  {
   "cell_type": "code",
   "execution_count": null,
   "metadata": {},
   "outputs": [],
   "source": []
  }
 ],
 "metadata": {
  "kernelspec": {
   "display_name": "Python 3",
   "language": "python",
   "name": "python3"
  },
  "language_info": {
   "codemirror_mode": {
    "name": "ipython",
    "version": 3
   },
   "file_extension": ".py",
   "mimetype": "text/x-python",
   "name": "python",
   "nbconvert_exporter": "python",
   "pygments_lexer": "ipython3",
   "version": "3.6.3"
  }
 },
 "nbformat": 4,
 "nbformat_minor": 2
}
