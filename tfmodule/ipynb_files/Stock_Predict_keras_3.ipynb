{
 "cells": [
  {
   "cell_type": "markdown",
   "metadata": {},
   "source": [
    "# Stock Prediction by Keras\n",
    "\n",
    "- tf.keras 를 이용\n",
    "- pandas package 사용\n",
    "- RNN, LSTM cell 사용\n",
    "- S&P 500 DATA 사용"
   ]
  },
  {
   "cell_type": "code",
   "execution_count": 1,
   "metadata": {},
   "outputs": [
    {
     "name": "stderr",
     "output_type": "stream",
     "text": [
      "/Users/chjeong/.pyenv/versions/3.6.3/lib/python3.6/importlib/_bootstrap.py:219: RuntimeWarning: compiletime version 3.5 of module 'tensorflow.python.framework.fast_tensor_util' does not match runtime version 3.6\n",
      "  return f(*args, **kwds)\n"
     ]
    }
   ],
   "source": [
    "import numpy as np\n",
    "import pandas as pd\n",
    "import tensorflow as tf\n",
    "from sklearn.preprocessing import MinMaxScaler\n",
    "import matplotlib.pyplot as plt\n",
    "import urllib"
   ]
  },
  {
   "cell_type": "markdown",
   "metadata": {},
   "source": [
    "### Download S&P 500 Stock data and read"
   ]
  },
  {
   "cell_type": "code",
   "execution_count": 2,
   "metadata": {},
   "outputs": [],
   "source": [
    "# urllib.request.urlretrieve('https://github.com/CNuge/kaggle-code/raw/master/stock_data/all_stocks_5yr.csv'+'/?accessType=download', './data/all_stocks_5yr.csv')"
   ]
  },
  {
   "cell_type": "code",
   "execution_count": 3,
   "metadata": {},
   "outputs": [],
   "source": [
    "data = pd.read_csv('./data/all_stocks_5yr.csv')"
   ]
  },
  {
   "cell_type": "markdown",
   "metadata": {},
   "source": [
    "### Set data"
   ]
  },
  {
   "cell_type": "code",
   "execution_count": 4,
   "metadata": {},
   "outputs": [],
   "source": [
    "cl = data[data['Name']=='MMM']\n",
    "cl = cl[['close', 'low', 'high']].values"
   ]
  },
  {
   "cell_type": "code",
   "execution_count": 5,
   "metadata": {},
   "outputs": [],
   "source": [
    "def set_data(cl):\n",
    "    scl = MinMaxScaler()\n",
    "    cl = scl.fit_transform(cl)\n",
    "    return cl, scl"
   ]
  },
  {
   "cell_type": "code",
   "execution_count": 6,
   "metadata": {},
   "outputs": [],
   "source": [
    "cl, scl = set_data(cl)"
   ]
  },
  {
   "cell_type": "code",
   "execution_count": 7,
   "metadata": {},
   "outputs": [],
   "source": [
    "def processData(data,lb):\n",
    "    X,Y = [],[]\n",
    "    for i in range(len(data)-lb-1):\n",
    "        X.append(data[i:(i+lb)])\n",
    "        Y.append(data[(i+lb),0])\n",
    "    return np.array(X),np.array(Y)"
   ]
  },
  {
   "cell_type": "code",
   "execution_count": 8,
   "metadata": {},
   "outputs": [],
   "source": [
    "X, y = processData(cl,7)"
   ]
  },
  {
   "cell_type": "code",
   "execution_count": 9,
   "metadata": {},
   "outputs": [
    {
     "name": "stdout",
     "output_type": "stream",
     "text": [
      "(1251, 7, 3)\n",
      "(1251,)\n"
     ]
    }
   ],
   "source": [
    "print(X.shape)\n",
    "print(y.shape)"
   ]
  },
  {
   "cell_type": "code",
   "execution_count": 10,
   "metadata": {},
   "outputs": [
    {
     "name": "stdout",
     "output_type": "stream",
     "text": [
      "1000\n",
      "251\n",
      "1000\n",
      "251\n"
     ]
    }
   ],
   "source": [
    "X_train,X_test = X[:int(X.shape[0]*0.80)],X[int(X.shape[0]*0.80):]\n",
    "y_train,y_test = y[:int(y.shape[0]*0.80)],y[int(y.shape[0]*0.80):]\n",
    "print(X_train.shape[0])\n",
    "print(X_test.shape[0])\n",
    "print(y_train.shape[0])\n",
    "print(y_test.shape[0])"
   ]
  },
  {
   "cell_type": "markdown",
   "metadata": {},
   "source": [
    "### Build the model"
   ]
  },
  {
   "cell_type": "code",
   "execution_count": 11,
   "metadata": {
    "scrolled": true
   },
   "outputs": [
    {
     "name": "stdout",
     "output_type": "stream",
     "text": [
      "Train on 1000 samples, validate on 251 samples\n",
      "Epoch 1/10\n",
      "1000/1000 [==============================] - 1s 1ms/step - loss: 6.7825e-04 - val_loss: 0.0038\n",
      "Epoch 2/10\n",
      "1000/1000 [==============================] - 1s 609us/step - loss: 0.0019 - val_loss: 0.0061\n",
      "Epoch 3/10\n",
      "1000/1000 [==============================] - 1s 629us/step - loss: 3.7404e-04 - val_loss: 0.0037\n",
      "Epoch 4/10\n",
      "1000/1000 [==============================] - 0s 468us/step - loss: 6.8575e-04 - val_loss: 0.0053\n",
      "Epoch 5/10\n",
      "1000/1000 [==============================] - 0s 496us/step - loss: 0.0015 - val_loss: 0.0026\n",
      "Epoch 6/10\n",
      "1000/1000 [==============================] - 0s 474us/step - loss: 0.0018 - val_loss: 0.0013\n",
      "Epoch 7/10\n",
      "1000/1000 [==============================] - 0s 469us/step - loss: 0.0012 - val_loss: 0.0013\n",
      "Epoch 8/10\n",
      "1000/1000 [==============================] - 0s 474us/step - loss: 3.7884e-04 - val_loss: 0.0015\n",
      "Epoch 9/10\n",
      "1000/1000 [==============================] - 0s 472us/step - loss: 3.3570e-04 - val_loss: 0.0021\n",
      "Epoch 10/10\n",
      "1000/1000 [==============================] - 0s 475us/step - loss: 2.4757e-04 - val_loss: 0.0013\n"
     ]
    }
   ],
   "source": [
    "\n",
    "model = tf.keras.Sequential()\n",
    "model.add(tf.keras.layers.LSTM(256,input_shape=(7,3)))\n",
    "model.add(tf.keras.layers.Dense(1))\n",
    "model.compile(optimizer='adam',loss='mse')\n",
    "#Reshape data for (Sample,Timestep,Features) \n",
    "X_train = X_train.reshape((X_train.shape[0],X_train.shape[1],3))\n",
    "X_test = X_test.reshape((X_test.shape[0],X_test.shape[1],3))\n",
    "#Fit model with history to check for overfitting\n",
    "history = model.fit(X_train,y_train,epochs=10,validation_data=(X_test,y_test),shuffle=False)"
   ]
  },
  {
   "cell_type": "code",
   "execution_count": 12,
   "metadata": {},
   "outputs": [
    {
     "data": {
      "text/plain": [
       "[<matplotlib.lines.Line2D at 0x10fc9c518>]"
      ]
     },
     "execution_count": 12,
     "metadata": {},
     "output_type": "execute_result"
    },
    {
     "data": {
      "image/png": "[encoded data removed]",
      "text/plain": [
       "<Figure size 432x288 with 1 Axes>"
      ]
     },
     "metadata": {
      "needs_background": "light"
     },
     "output_type": "display_data"
    }
   ],
   "source": [
    "plt.plot(history.history['loss'])\n",
    "plt.plot(history.history['val_loss'])"
   ]
  },
  {
   "cell_type": "code",
   "execution_count": 13,
   "metadata": {},
   "outputs": [
    {
     "data": {
      "text/plain": [
       "array([[0.46959459, 0.47412787, 0.47781809],\n",
       "       [0.46577002, 0.46725457, 0.46336961],\n",
       "       [0.46800102, 0.47043185, 0.4655337 ],\n",
       "       [0.46169046, 0.46556867, 0.45900961],\n",
       "       [0.46717236, 0.46751394, 0.46235122],\n",
       "       [0.46755482, 0.46783815, 0.46807969],\n",
       "       [0.47176186, 0.47596875, 0.46935268]])"
      ]
     },
     "execution_count": 13,
     "metadata": {},
     "output_type": "execute_result"
    }
   ],
   "source": [
    "X_test[0]"
   ]
  },
  {
   "cell_type": "code",
   "execution_count": 14,
   "metadata": {},
   "outputs": [
    {
     "data": {
      "text/plain": [
       "(251, 1)"
      ]
     },
     "execution_count": 14,
     "metadata": {},
     "output_type": "execute_result"
    }
   ],
   "source": [
    "y_test.reshape(-1,1).shape"
   ]
  },
  {
   "cell_type": "code",
   "execution_count": 15,
   "metadata": {},
   "outputs": [],
   "source": [
    "Xt = model.predict(X_test)"
   ]
  },
  {
   "cell_type": "code",
   "execution_count": 16,
   "metadata": {},
   "outputs": [
    {
     "data": {
      "text/plain": [
       "[<matplotlib.lines.Line2D at 0x127063c88>]"
      ]
     },
     "execution_count": 16,
     "metadata": {},
     "output_type": "execute_result"
    },
    {
     "data": {
      "image/png": "[encoded data removed]",
      "text/plain": [
       "<Figure size 432x288 with 1 Axes>"
      ]
     },
     "metadata": {
      "needs_background": "light"
     },
     "output_type": "display_data"
    }
   ],
   "source": [
    "plt.plot(y_test.reshape(-1,1))\n",
    "plt.plot(Xt)"
   ]
  },
  {
   "cell_type": "code",
   "execution_count": null,
   "metadata": {},
   "outputs": [],
   "source": []
  },
  {
   "cell_type": "code",
   "execution_count": 17,
   "metadata": {},
   "outputs": [
    {
     "name": "stdout",
     "output_type": "stream",
     "text": [
      "predicted:[[0.87662154]], actual:[[0.82668281]]\n"
     ]
    }
   ],
   "source": [
    "act = []\n",
    "pred = []\n",
    "#for i in range(250):\n",
    "i=249\n",
    "Xt = model.predict(X_test[i].reshape(1,7,3))\n",
    "print('predicted:{0}, actual:{1}'.format(Xt,y_test[i].reshape(-1,1)))\n",
    "pred.append(Xt)\n",
    "act.append(y_test[i].reshape(-1,1))"
   ]
  },
  {
   "cell_type": "code",
   "execution_count": 18,
   "metadata": {},
   "outputs": [],
   "source": [
    "result_df = pd.DataFrame({'pred':list(np.reshape(pred, (-1))),'act':list(np.reshape(act, (-1)))})"
   ]
  },
  {
   "cell_type": "code",
   "execution_count": 19,
   "metadata": {},
   "outputs": [
    {
     "data": {
      "text/plain": [
       "[<matplotlib.lines.Line2D at 0x12732ba58>]"
      ]
     },
     "execution_count": 19,
     "metadata": {},
     "output_type": "execute_result"
    },
    {
     "data": {
      "image/png": "[encoded data removed]",
      "text/plain": [
       "<Figure size 432x288 with 1 Axes>"
      ]
     },
     "metadata": {
      "needs_background": "light"
     },
     "output_type": "display_data"
    }
   ],
   "source": [
    "Xt = model.predict(X_test)\n",
    "plt.plot(y_test.reshape(-1,1))\n",
    "plt.plot(Xt)"
   ]
  },
  {
   "cell_type": "code",
   "execution_count": 20,
   "metadata": {},
   "outputs": [
    {
     "data": {
      "text/plain": [
       "array([[0.96003315, 0.94248476, 0.96836611],\n",
       "       [1.        , 0.98327065, 1.        ],\n",
       "       [0.98329934, 1.        , 0.99726306],\n",
       "       [0.95480622, 0.97043185, 0.97403093],\n",
       "       [0.94817695, 0.95869537, 0.95773662],\n",
       "       [0.93185875, 0.93651602, 0.93838712],\n",
       "       [0.91420194, 0.92808974, 0.92985806]])"
      ]
     },
     "execution_count": 20,
     "metadata": {},
     "output_type": "execute_result"
    }
   ],
   "source": [
    "X_test[249]"
   ]
  },
  {
   "cell_type": "code",
   "execution_count": 21,
   "metadata": {},
   "outputs": [
    {
     "data": {
      "text/plain": [
       "array([[0.93026517, 0.93697316, 0.92852142],\n",
       "       [0.96003315, 0.94248476, 0.96836611],\n",
       "       [1.        , 0.98327065, 1.        ],\n",
       "       [0.98329934, 1.        , 0.99726306],\n",
       "       [0.95480622, 0.97043185, 0.97403093],\n",
       "       [0.94817695, 0.95869537, 0.95773662],\n",
       "       [0.93185875, 0.93651602, 0.93838712]])"
      ]
     },
     "execution_count": 21,
     "metadata": {},
     "output_type": "execute_result"
    }
   ],
   "source": [
    "X_test[248]"
   ]
  }
 ],
 "metadata": {
  "kernelspec": {
   "display_name": "Python 2",
   "language": "python",
   "name": "python2"
  },
  "language_info": {
   "codemirror_mode": {
    "name": "ipython",
    "version": 2
   },
   "file_extension": ".py",
   "mimetype": "text/x-python",
   "name": "python",
   "nbconvert_exporter": "python",
   "pygments_lexer": "ipython2",
   "version": "2.7.13"
  }
 },
 "nbformat": 4,
 "nbformat_minor": 2
}
